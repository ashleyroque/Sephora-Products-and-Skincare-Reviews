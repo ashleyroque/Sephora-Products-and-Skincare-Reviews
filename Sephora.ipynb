{
 "cells": [
  {
   "cell_type": "code",
   "execution_count": 19,
   "id": "45577099-866d-4b83-b5aa-8b0f177988ec",
   "metadata": {},
   "outputs": [],
   "source": [
    "import pandas as pd\n"
   ]
  },
  {
   "cell_type": "code",
   "execution_count": 39,
   "id": "0afc6765-0704-4c13-b0f0-d46a3018a132",
   "metadata": {},
   "outputs": [
    {
     "name": "stderr",
     "output_type": "stream",
     "text": [
      "C:\\Users\\ashle\\AppData\\Local\\Temp\\ipykernel_28800\\161294535.py:1: DtypeWarning: Columns (1) have mixed types. Specify dtype option on import or set low_memory=False.\n",
      "  df = pd.read_csv(\"archive/reviews_750-1250.csv\")\n"
     ]
    }
   ],
   "source": [
    "df = pd.read_csv(\"archive/reviews_750-1250.csv\")"
   ]
  },
  {
   "cell_type": "code",
   "execution_count": 23,
   "id": "35ccbe45-8761-4dbf-aff5-06ffa372a9e4",
   "metadata": {},
   "outputs": [
    {
     "data": {
      "text/html": [
       "<div>\n",
       "<style scoped>\n",
       "    .dataframe tbody tr th:only-of-type {\n",
       "        vertical-align: middle;\n",
       "    }\n",
       "\n",
       "    .dataframe tbody tr th {\n",
       "        vertical-align: top;\n",
       "    }\n",
       "\n",
       "    .dataframe thead th {\n",
       "        text-align: right;\n",
       "    }\n",
       "</style>\n",
       "<table border=\"1\" class=\"dataframe\">\n",
       "  <thead>\n",
       "    <tr style=\"text-align: right;\">\n",
       "      <th></th>\n",
       "      <th>Unnamed: 0</th>\n",
       "      <th>author_id</th>\n",
       "      <th>rating</th>\n",
       "      <th>is_recommended</th>\n",
       "      <th>helpfulness</th>\n",
       "      <th>total_feedback_count</th>\n",
       "      <th>total_neg_feedback_count</th>\n",
       "      <th>total_pos_feedback_count</th>\n",
       "      <th>submission_time</th>\n",
       "      <th>review_text</th>\n",
       "      <th>review_title</th>\n",
       "      <th>skin_tone</th>\n",
       "      <th>eye_color</th>\n",
       "      <th>skin_type</th>\n",
       "      <th>hair_color</th>\n",
       "      <th>product_id</th>\n",
       "      <th>product_name</th>\n",
       "      <th>brand_name</th>\n",
       "      <th>price_usd</th>\n",
       "    </tr>\n",
       "  </thead>\n",
       "  <tbody>\n",
       "    <tr>\n",
       "      <th>0</th>\n",
       "      <td>0</td>\n",
       "      <td>8554483509</td>\n",
       "      <td>2</td>\n",
       "      <td>0.0</td>\n",
       "      <td>NaN</td>\n",
       "      <td>0</td>\n",
       "      <td>0</td>\n",
       "      <td>0</td>\n",
       "      <td>2023-03-21</td>\n",
       "      <td>This was gifted by Supergoop! in exchange for ...</td>\n",
       "      <td>Nice packaging but easy to overuse</td>\n",
       "      <td>light</td>\n",
       "      <td>brown</td>\n",
       "      <td>combination</td>\n",
       "      <td>NaN</td>\n",
       "      <td>P467976</td>\n",
       "      <td>(Re)setting 100% Mineral Powder Sunscreen SPF ...</td>\n",
       "      <td>Supergoop!</td>\n",
       "      <td>35.0</td>\n",
       "    </tr>\n",
       "    <tr>\n",
       "      <th>1</th>\n",
       "      <td>1</td>\n",
       "      <td>24710523057</td>\n",
       "      <td>2</td>\n",
       "      <td>0.0</td>\n",
       "      <td>1.000000</td>\n",
       "      <td>2</td>\n",
       "      <td>0</td>\n",
       "      <td>2</td>\n",
       "      <td>2023-03-07</td>\n",
       "      <td>I didn’t like it; too much product comes out w...</td>\n",
       "      <td>Packaging is not suits le</td>\n",
       "      <td>NaN</td>\n",
       "      <td>brown</td>\n",
       "      <td>combination</td>\n",
       "      <td>NaN</td>\n",
       "      <td>P467976</td>\n",
       "      <td>(Re)setting 100% Mineral Powder Sunscreen SPF ...</td>\n",
       "      <td>Supergoop!</td>\n",
       "      <td>35.0</td>\n",
       "    </tr>\n",
       "    <tr>\n",
       "      <th>2</th>\n",
       "      <td>2</td>\n",
       "      <td>8429283179</td>\n",
       "      <td>5</td>\n",
       "      <td>1.0</td>\n",
       "      <td>0.941176</td>\n",
       "      <td>34</td>\n",
       "      <td>2</td>\n",
       "      <td>32</td>\n",
       "      <td>2023-03-01</td>\n",
       "      <td>Y’all….I’m begging for everyone to read instru...</td>\n",
       "      <td>PLS READ THIS LOL</td>\n",
       "      <td>light</td>\n",
       "      <td>green</td>\n",
       "      <td>normal</td>\n",
       "      <td>brown</td>\n",
       "      <td>P467976</td>\n",
       "      <td>(Re)setting 100% Mineral Powder Sunscreen SPF ...</td>\n",
       "      <td>Supergoop!</td>\n",
       "      <td>35.0</td>\n",
       "    </tr>\n",
       "    <tr>\n",
       "      <th>3</th>\n",
       "      <td>3</td>\n",
       "      <td>8105185455</td>\n",
       "      <td>1</td>\n",
       "      <td>0.0</td>\n",
       "      <td>0.000000</td>\n",
       "      <td>5</td>\n",
       "      <td>5</td>\n",
       "      <td>0</td>\n",
       "      <td>2023-02-27</td>\n",
       "      <td>I have not figured out how to use this product...</td>\n",
       "      <td>At a loss</td>\n",
       "      <td>tan</td>\n",
       "      <td>brown</td>\n",
       "      <td>combination</td>\n",
       "      <td>black</td>\n",
       "      <td>P467976</td>\n",
       "      <td>(Re)setting 100% Mineral Powder Sunscreen SPF ...</td>\n",
       "      <td>Supergoop!</td>\n",
       "      <td>35.0</td>\n",
       "    </tr>\n",
       "    <tr>\n",
       "      <th>4</th>\n",
       "      <td>4</td>\n",
       "      <td>1515931062</td>\n",
       "      <td>1</td>\n",
       "      <td>0.0</td>\n",
       "      <td>0.000000</td>\n",
       "      <td>7</td>\n",
       "      <td>7</td>\n",
       "      <td>0</td>\n",
       "      <td>2023-02-27</td>\n",
       "      <td>I’m at a loss as to how to use this thing!!! C...</td>\n",
       "      <td>NOT for me!!</td>\n",
       "      <td>fair</td>\n",
       "      <td>blue</td>\n",
       "      <td>combination</td>\n",
       "      <td>blonde</td>\n",
       "      <td>P467976</td>\n",
       "      <td>(Re)setting 100% Mineral Powder Sunscreen SPF ...</td>\n",
       "      <td>Supergoop!</td>\n",
       "      <td>35.0</td>\n",
       "    </tr>\n",
       "  </tbody>\n",
       "</table>\n",
       "</div>"
      ],
      "text/plain": [
       "   Unnamed: 0    author_id  rating  is_recommended  helpfulness  \\\n",
       "0           0   8554483509       2             0.0          NaN   \n",
       "1           1  24710523057       2             0.0     1.000000   \n",
       "2           2   8429283179       5             1.0     0.941176   \n",
       "3           3   8105185455       1             0.0     0.000000   \n",
       "4           4   1515931062       1             0.0     0.000000   \n",
       "\n",
       "   total_feedback_count  total_neg_feedback_count  total_pos_feedback_count  \\\n",
       "0                     0                         0                         0   \n",
       "1                     2                         0                         2   \n",
       "2                    34                         2                        32   \n",
       "3                     5                         5                         0   \n",
       "4                     7                         7                         0   \n",
       "\n",
       "  submission_time                                        review_text  \\\n",
       "0      2023-03-21  This was gifted by Supergoop! in exchange for ...   \n",
       "1      2023-03-07  I didn’t like it; too much product comes out w...   \n",
       "2      2023-03-01  Y’all….I’m begging for everyone to read instru...   \n",
       "3      2023-02-27  I have not figured out how to use this product...   \n",
       "4      2023-02-27  I’m at a loss as to how to use this thing!!! C...   \n",
       "\n",
       "                         review_title skin_tone eye_color    skin_type  \\\n",
       "0  Nice packaging but easy to overuse     light     brown  combination   \n",
       "1           Packaging is not suits le       NaN     brown  combination   \n",
       "2                   PLS READ THIS LOL     light     green       normal   \n",
       "3                           At a loss       tan     brown  combination   \n",
       "4                        NOT for me!!      fair      blue  combination   \n",
       "\n",
       "  hair_color product_id                                       product_name  \\\n",
       "0        NaN    P467976  (Re)setting 100% Mineral Powder Sunscreen SPF ...   \n",
       "1        NaN    P467976  (Re)setting 100% Mineral Powder Sunscreen SPF ...   \n",
       "2      brown    P467976  (Re)setting 100% Mineral Powder Sunscreen SPF ...   \n",
       "3      black    P467976  (Re)setting 100% Mineral Powder Sunscreen SPF ...   \n",
       "4     blonde    P467976  (Re)setting 100% Mineral Powder Sunscreen SPF ...   \n",
       "\n",
       "   brand_name  price_usd  \n",
       "0  Supergoop!       35.0  \n",
       "1  Supergoop!       35.0  \n",
       "2  Supergoop!       35.0  \n",
       "3  Supergoop!       35.0  \n",
       "4  Supergoop!       35.0  "
      ]
     },
     "execution_count": 23,
     "metadata": {},
     "output_type": "execute_result"
    }
   ],
   "source": [
    "df.head()"
   ]
  },
  {
   "cell_type": "code",
   "execution_count": 25,
   "id": "51738a6a-a8b8-4155-9724-a47e5f1c12d4",
   "metadata": {},
   "outputs": [
    {
     "data": {
      "text/plain": [
       "Unnamed: 0                    int64\n",
       "author_id                    object\n",
       "rating                        int64\n",
       "is_recommended              float64\n",
       "helpfulness                 float64\n",
       "total_feedback_count          int64\n",
       "total_neg_feedback_count      int64\n",
       "total_pos_feedback_count      int64\n",
       "submission_time              object\n",
       "review_text                  object\n",
       "review_title                 object\n",
       "skin_tone                    object\n",
       "eye_color                    object\n",
       "skin_type                    object\n",
       "hair_color                   object\n",
       "product_id                   object\n",
       "product_name                 object\n",
       "brand_name                   object\n",
       "price_usd                   float64\n",
       "dtype: object"
      ]
     },
     "execution_count": 25,
     "metadata": {},
     "output_type": "execute_result"
    }
   ],
   "source": [
    "df.dtypes"
   ]
  },
  {
   "cell_type": "code",
   "execution_count": null,
   "id": "e619c565-979e-425d-9b77-83dedc6ef740",
   "metadata": {},
   "outputs": [],
   "source": [
    "# for my first question that I am trying to answer: \n",
    "# \"is there a correlation between the price of a skincare product and its customer rating\"\n",
    "# to create the graph, use rating = int, price = float "
   ]
  },
  {
   "cell_type": "code",
   "execution_count": 27,
   "id": "db689382-89c8-469b-bbff-2050e649f1bc",
   "metadata": {},
   "outputs": [
    {
     "data": {
      "text/plain": [
       "Index(['Unnamed: 0', 'author_id', 'rating', 'is_recommended', 'helpfulness',\n",
       "       'total_feedback_count', 'total_neg_feedback_count',\n",
       "       'total_pos_feedback_count', 'submission_time', 'review_text',\n",
       "       'review_title', 'skin_tone', 'eye_color', 'skin_type', 'hair_color',\n",
       "       'product_id', 'product_name', 'brand_name', 'price_usd'],\n",
       "      dtype='object')"
      ]
     },
     "execution_count": 27,
     "metadata": {},
     "output_type": "execute_result"
    }
   ],
   "source": [
    "df.columns "
   ]
  },
  {
   "cell_type": "code",
   "execution_count": 29,
   "id": "8b5fb597-470f-4f90-b5dc-afd331d180ec",
   "metadata": {},
   "outputs": [
    {
     "data": {
      "text/html": [
       "<div>\n",
       "<style scoped>\n",
       "    .dataframe tbody tr th:only-of-type {\n",
       "        vertical-align: middle;\n",
       "    }\n",
       "\n",
       "    .dataframe tbody tr th {\n",
       "        vertical-align: top;\n",
       "    }\n",
       "\n",
       "    .dataframe thead th {\n",
       "        text-align: right;\n",
       "    }\n",
       "</style>\n",
       "<table border=\"1\" class=\"dataframe\">\n",
       "  <thead>\n",
       "    <tr style=\"text-align: right;\">\n",
       "      <th></th>\n",
       "      <th>Unnamed: 0</th>\n",
       "      <th>rating</th>\n",
       "      <th>is_recommended</th>\n",
       "      <th>helpfulness</th>\n",
       "      <th>total_feedback_count</th>\n",
       "      <th>total_neg_feedback_count</th>\n",
       "      <th>total_pos_feedback_count</th>\n",
       "      <th>price_usd</th>\n",
       "    </tr>\n",
       "  </thead>\n",
       "  <tbody>\n",
       "    <tr>\n",
       "      <th>count</th>\n",
       "      <td>119317.000000</td>\n",
       "      <td>119317.000000</td>\n",
       "      <td>110421.000000</td>\n",
       "      <td>67310.000000</td>\n",
       "      <td>119317.000000</td>\n",
       "      <td>119317.000000</td>\n",
       "      <td>119317.000000</td>\n",
       "      <td>119317.000000</td>\n",
       "    </tr>\n",
       "    <tr>\n",
       "      <th>mean</th>\n",
       "      <td>59658.000000</td>\n",
       "      <td>4.348064</td>\n",
       "      <td>0.858505</td>\n",
       "      <td>0.760169</td>\n",
       "      <td>4.902973</td>\n",
       "      <td>1.118793</td>\n",
       "      <td>3.784180</td>\n",
       "      <td>53.706227</td>\n",
       "    </tr>\n",
       "    <tr>\n",
       "      <th>std</th>\n",
       "      <td>34443.995372</td>\n",
       "      <td>1.114384</td>\n",
       "      <td>0.348533</td>\n",
       "      <td>0.320066</td>\n",
       "      <td>15.425409</td>\n",
       "      <td>5.959542</td>\n",
       "      <td>12.212018</td>\n",
       "      <td>43.155518</td>\n",
       "    </tr>\n",
       "    <tr>\n",
       "      <th>min</th>\n",
       "      <td>0.000000</td>\n",
       "      <td>1.000000</td>\n",
       "      <td>0.000000</td>\n",
       "      <td>0.000000</td>\n",
       "      <td>0.000000</td>\n",
       "      <td>0.000000</td>\n",
       "      <td>0.000000</td>\n",
       "      <td>3.000000</td>\n",
       "    </tr>\n",
       "    <tr>\n",
       "      <th>25%</th>\n",
       "      <td>29829.000000</td>\n",
       "      <td>4.000000</td>\n",
       "      <td>1.000000</td>\n",
       "      <td>0.625000</td>\n",
       "      <td>0.000000</td>\n",
       "      <td>0.000000</td>\n",
       "      <td>0.000000</td>\n",
       "      <td>30.000000</td>\n",
       "    </tr>\n",
       "    <tr>\n",
       "      <th>50%</th>\n",
       "      <td>59658.000000</td>\n",
       "      <td>5.000000</td>\n",
       "      <td>1.000000</td>\n",
       "      <td>0.909091</td>\n",
       "      <td>1.000000</td>\n",
       "      <td>0.000000</td>\n",
       "      <td>1.000000</td>\n",
       "      <td>44.000000</td>\n",
       "    </tr>\n",
       "    <tr>\n",
       "      <th>75%</th>\n",
       "      <td>89487.000000</td>\n",
       "      <td>5.000000</td>\n",
       "      <td>1.000000</td>\n",
       "      <td>1.000000</td>\n",
       "      <td>5.000000</td>\n",
       "      <td>1.000000</td>\n",
       "      <td>3.000000</td>\n",
       "      <td>68.000000</td>\n",
       "    </tr>\n",
       "    <tr>\n",
       "      <th>max</th>\n",
       "      <td>119316.000000</td>\n",
       "      <td>5.000000</td>\n",
       "      <td>1.000000</td>\n",
       "      <td>1.000000</td>\n",
       "      <td>1135.000000</td>\n",
       "      <td>1094.000000</td>\n",
       "      <td>743.000000</td>\n",
       "      <td>410.000000</td>\n",
       "    </tr>\n",
       "  </tbody>\n",
       "</table>\n",
       "</div>"
      ],
      "text/plain": [
       "          Unnamed: 0         rating  is_recommended   helpfulness  \\\n",
       "count  119317.000000  119317.000000   110421.000000  67310.000000   \n",
       "mean    59658.000000       4.348064        0.858505      0.760169   \n",
       "std     34443.995372       1.114384        0.348533      0.320066   \n",
       "min         0.000000       1.000000        0.000000      0.000000   \n",
       "25%     29829.000000       4.000000        1.000000      0.625000   \n",
       "50%     59658.000000       5.000000        1.000000      0.909091   \n",
       "75%     89487.000000       5.000000        1.000000      1.000000   \n",
       "max    119316.000000       5.000000        1.000000      1.000000   \n",
       "\n",
       "       total_feedback_count  total_neg_feedback_count  \\\n",
       "count         119317.000000             119317.000000   \n",
       "mean               4.902973                  1.118793   \n",
       "std               15.425409                  5.959542   \n",
       "min                0.000000                  0.000000   \n",
       "25%                0.000000                  0.000000   \n",
       "50%                1.000000                  0.000000   \n",
       "75%                5.000000                  1.000000   \n",
       "max             1135.000000               1094.000000   \n",
       "\n",
       "       total_pos_feedback_count      price_usd  \n",
       "count             119317.000000  119317.000000  \n",
       "mean                   3.784180      53.706227  \n",
       "std                   12.212018      43.155518  \n",
       "min                    0.000000       3.000000  \n",
       "25%                    0.000000      30.000000  \n",
       "50%                    1.000000      44.000000  \n",
       "75%                    3.000000      68.000000  \n",
       "max                  743.000000     410.000000  "
      ]
     },
     "execution_count": 29,
     "metadata": {},
     "output_type": "execute_result"
    }
   ],
   "source": [
    "df.describe()"
   ]
  },
  {
   "cell_type": "code",
   "execution_count": 31,
   "id": "8e42c7f6-d8d9-4535-8da6-7ec1206d82dc",
   "metadata": {},
   "outputs": [
    {
     "data": {
      "text/plain": [
       "0         2\n",
       "1         2\n",
       "2         5\n",
       "3         1\n",
       "4         1\n",
       "         ..\n",
       "119312    5\n",
       "119313    5\n",
       "119314    5\n",
       "119315    5\n",
       "119316    5\n",
       "Name: rating, Length: 119317, dtype: int64"
      ]
     },
     "execution_count": 31,
     "metadata": {},
     "output_type": "execute_result"
    }
   ],
   "source": []
  },
  {
   "cell_type": "code",
   "execution_count": null,
   "id": "6f8ea8c9-71fd-494c-9b60-2ef48f1c227e",
   "metadata": {},
   "outputs": [],
   "source": [
    "# Cleaning the data "
   ]
  },
  {
   "cell_type": "code",
   "execution_count": 47,
   "id": "a21e77c1-7b17-4bac-b46d-156018f5e0d7",
   "metadata": {},
   "outputs": [
    {
     "data": {
      "text/plain": [
       "Unnamed: 0                      0\n",
       "author_id                       0\n",
       "rating                          0\n",
       "is_recommended               8896\n",
       "helpfulness                 52007\n",
       "total_feedback_count            0\n",
       "total_neg_feedback_count        0\n",
       "total_pos_feedback_count        0\n",
       "submission_time                 0\n",
       "review_text                    89\n",
       "review_title                35556\n",
       "skin_tone                   15248\n",
       "eye_color                   14663\n",
       "skin_type                    7605\n",
       "hair_color                  20557\n",
       "product_id                      0\n",
       "product_name                    0\n",
       "brand_name                      0\n",
       "price_usd                       0\n",
       "dtype: int64"
      ]
     },
     "execution_count": 47,
     "metadata": {},
     "output_type": "execute_result"
    }
   ],
   "source": [
    "# checking for missing values \n",
    "df.isna().sum()"
   ]
  },
  {
   "cell_type": "code",
   "execution_count": 185,
   "id": "a9a71c49-0a3c-4721-9842-e9bc7fef4e47",
   "metadata": {},
   "outputs": [],
   "source": [
    "df['review_text'] =df['review_text'].fillna('No review')\n",
    "df['review_title'] = df['review_title'].fillna('No title')\n",
    "df['skin_tone'] = df['skin_tone'].fillna('Unknown')\n",
    "df['eye_color'] = df['eye_color'].fillna('Unknown')\n",
    "df['skin_type'] = df['skin_type'].fillna('Unknown')\n",
    "df['hair_color'] = df['hair_color'].fillna('Unknown')"
   ]
  },
  {
   "cell_type": "code",
   "execution_count": 195,
   "id": "63c35fb0-d3ac-4434-b544-5b2173f8a621",
   "metadata": {},
   "outputs": [],
   "source": [
    "# This is to drop any missing values \n",
    "df.dropna(inplace=True)"
   ]
  },
  {
   "cell_type": "code",
   "execution_count": 197,
   "id": "b60bd508-3a1c-4e4a-8a37-317bec8ded50",
   "metadata": {},
   "outputs": [
    {
     "name": "stdout",
     "output_type": "stream",
     "text": [
      "Unnamed: 0                  0\n",
      "author_id                   0\n",
      "rating                      0\n",
      "is_recommended              0\n",
      "helpfulness                 0\n",
      "total_feedback_count        0\n",
      "total_neg_feedback_count    0\n",
      "total_pos_feedback_count    0\n",
      "submission_time             0\n",
      "review_text                 0\n",
      "review_title                0\n",
      "skin_tone                   0\n",
      "eye_color                   0\n",
      "skin_type                   0\n",
      "hair_color                  0\n",
      "product_id                  0\n",
      "product_name                0\n",
      "brand_name                  0\n",
      "price_usd                   0\n",
      "dtype: int64\n"
     ]
    }
   ],
   "source": [
    "# Update \n",
    "print(df.isnull().sum())"
   ]
  },
  {
   "cell_type": "code",
   "execution_count": null,
   "id": "7889fc05-2947-4a72-b148-d9c9040b70a6",
   "metadata": {},
   "outputs": [],
   "source": [
    " # Troubling part - since I have no category in this dataset I am going to try \"filtering\" products into a category according to the Sephora website using keywords  "
   ]
  },
  {
   "cell_type": "code",
   "execution_count": null,
   "id": "af36d013-1fcf-478a-bcb1-fc6c7662b3a9",
   "metadata": {},
   "outputs": [],
   "source": [
    " # Categorize products according to sephora wesbite "
   ]
  },
  {
   "cell_type": "code",
   "execution_count": 229,
   "id": "f4af690f-1113-4e8b-a5e6-b50568f0443e",
   "metadata": {},
   "outputs": [],
   "source": [
    "keywords_to_categories = {\n",
    "    'moisturizer': 'Moisturizers',\n",
    "    'night cream': 'Moisturizers',\n",
    "    'face oils': 'Moisturizers',\n",
    "    'mists': 'Moisturizers',\n",
    "    'essences': 'Moisturizers',\n",
    "    'BB cream': 'Moisturizers',\n",
    "    'CC cream': 'Moisturizers',\n",
    "    'face wash': 'Cleansers',\n",
    "    'cleanser': 'Cleansers',\n",
    "    'makeup removers': 'Cleansers',\n",
    "    'face wipes': 'Cleansers',\n",
    "    'toners': 'Cleansers',\n",
    "    'treatment': 'Treatments',\n",
    "    'face serums': 'Treatments',\n",
    "    'acne treatments': 'Treatments',\n",
    "    'blemish treatment': 'Treatments',\n",
    "    'facial peels': 'Treatments',\n",
    "    'face masks': 'Masks',\n",
    "    'sheet masks': 'Masks',\n",
    "    'eye masks': 'Masks',\n",
    "    'balm': 'Lip balm',\n",
    "    'sunscreen': 'Sunscreen',\n",
    "    'face sunscreen': 'Sunscreen',\n",
    "    'body sunscreen': 'Sunscreen',\n",
    "    'supplements' : 'Wellness', \n",
    "    'feminine care' : 'Wellness', \n",
    "    \n",
    "}\n"
   ]
  },
  {
   "cell_type": "code",
   "execution_count": 284,
   "id": "f1bbe52c-8298-4b83-9ca1-b9d2c5a920f5",
   "metadata": {},
   "outputs": [],
   "source": [
    "# Function\n",
    "def categorize_product(name):\n",
    "    name = name.lower()\n",
    "    for keyword, category in keywords_to_categories.items():\n",
    "        if keyword in name:\n",
    "            return category\n",
    "    return 'Other' \n",
    "# returns other when the category doesnt fall under any of these\n",
    "\n",
    "if 'product_name' in df.columns:\n",
    "    df['category'] = df['product_name'].apply(categorize_product)\n",
    "else:\n",
    "    print(\"The column 'product_name' does not exist in the DataFrame.\")"
   ]
  },
  {
   "cell_type": "code",
   "execution_count": 286,
   "id": "a1c4e364-caba-4b47-9185-17798918a5ef",
   "metadata": {},
   "outputs": [
    {
     "name": "stdout",
     "output_type": "stream",
     "text": [
      "category\n",
      "Other           26836\n",
      "Moisturizers     3316\n",
      "Cleansers        3103\n",
      "Treatments       2443\n",
      "Sunscreen        1681\n",
      "Lip balm         1026\n",
      "Masks             151\n",
      "Name: count, dtype: int64\n"
     ]
    }
   ],
   "source": [
    "print(df['category'].value_counts())"
   ]
  },
  {
   "cell_type": "code",
   "execution_count": 209,
   "id": "5f0e2522-c4fd-4296-8e42-c23b6d853152",
   "metadata": {},
   "outputs": [],
   "source": [
    "import matplotlib.pyplot as plt"
   ]
  },
  {
   "cell_type": "code",
   "execution_count": 278,
   "id": "e39d2836-4236-496f-9540-4b2fd61ff204",
   "metadata": {},
   "outputs": [
    {
     "data": {
      "image/png": "[encoded data removed]",
      "text/plain": [
       "<Figure size 1000x800 with 1 Axes>"
      ]
     },
     "metadata": {},
     "output_type": "display_data"
    }
   ],
   "source": [
    "category_ratings = df.groupby('category')['rating'].mean()\n",
    "fig, ax = plt.subplots(figsize=(10,8))\n",
    "category_ratings.plot(kind='bar', color= 'skyblue', ax=ax)\n",
    "ax.set(title=\"Average Rating by Skincare Product Category\", xlabel=\"Skincare Product Category\", ylabel=\"Average Rating\")\n",
    "plt.show()"
   ]
  },
  {
   "cell_type": "code",
   "execution_count": null,
   "id": "7e81117f-e971-4cea-9b4f-2c101b90f3c2",
   "metadata": {},
   "outputs": [],
   "source": []
  },
  {
   "cell_type": "code",
   "execution_count": 269,
   "id": "bbae9054-3c1a-47a3-b68a-7e3e0bddfda9",
   "metadata": {},
   "outputs": [
    {
     "name": "stdout",
     "output_type": "stream",
     "text": [
      "category\n",
      "Cleansers       4.129230\n",
      "Lip balm        3.876218\n",
      "Masks           4.225166\n",
      "Moisturizers    4.149276\n",
      "Other           4.146743\n",
      "Sunscreen       4.027365\n",
      "Treatments      4.326238\n",
      "Name: rating, dtype: float64\n"
     ]
    }
   ],
   "source": [
    "category_ratings = df.groupby('category')['rating'].mean()\n",
    "print(category_ratings)"
   ]
  },
  {
   "cell_type": "code",
   "execution_count": 213,
   "id": "d7cd48fc-1980-4536-badc-0fb45d3e7817",
   "metadata": {},
   "outputs": [
    {
     "name": "stdout",
     "output_type": "stream",
     "text": [
      "Correlation between price and rating: 0.011041275157950284\n"
     ]
    }
   ],
   "source": [
    "correlation = df['price_usd'].corr(df['rating'])\n",
    "print(f\"Correlation between price and rating: {correlation}\")"
   ]
  },
  {
   "cell_type": "code",
   "execution_count": null,
   "id": "3f422f5b-1f66-456a-a1ec-e4e12282ecea",
   "metadata": {},
   "outputs": [],
   "source": [
    "# Finding: The correlation is weak. Price does not impact product rating. "
   ]
  },
  {
   "cell_type": "code",
   "execution_count": 91,
   "id": "5924df7a-8c84-4be6-ba2b-037b94acd9ed",
   "metadata": {},
   "outputs": [],
   "source": [
    "import matplotlib.pyplot as plt "
   ]
  },
  {
   "cell_type": "code",
   "execution_count": 93,
   "id": "7c8c7404-e1ce-4306-886e-f0cf3ef713ad",
   "metadata": {},
   "outputs": [],
   "source": [
    "import seaborn as sns"
   ]
  },
  {
   "cell_type": "code",
   "execution_count": null,
   "id": "fc1a4fdb-112e-4440-bda8-edf844ec25f0",
   "metadata": {},
   "outputs": [],
   "source": [
    "# Create a scatterplot to now visualize the relationship "
   ]
  },
  {
   "cell_type": "code",
   "execution_count": 257,
   "id": "8366f578-fb57-4512-b1e9-3a7af54661c8",
   "metadata": {},
   "outputs": [
    {
     "data": {
      "image/png": "[encoded data removed]",
      "text/plain": [
       "<Figure size 1000x600 with 1 Axes>"
      ]
     },
     "metadata": {},
     "output_type": "display_data"
    }
   ],
   "source": [
    "plt.figure(figsize=(10,6))\n",
    "sns.scatterplot(x='price_usd', y='rating', data=df) \n",
    "plt.title('Correlation between price and rating of a product')\n",
    "plt.xlabel('price_usd')\n",
    "plt.ylabel('rating')\n",
    "plt.show()"
   ]
  },
  {
   "cell_type": "code",
   "execution_count": null,
   "id": "01a6cee7-fef4-4dc7-b4ff-e7bef3ee5272",
   "metadata": {},
   "outputs": [],
   "source": []
  },
  {
   "cell_type": "code",
   "execution_count": null,
   "id": "e3b836a2-7f1e-4ed6-93f3-a9dbba45c25d",
   "metadata": {},
   "outputs": [],
   "source": []
  }
 ],
 "metadata": {
  "kernelspec": {
   "display_name": "Python 3 (ipykernel)",
   "language": "python",
   "name": "python3"
  },
  "language_info": {
   "codemirror_mode": {
    "name": "ipython",
    "version": 3
   },
   "file_extension": ".py",
   "mimetype": "text/x-python",
   "name": "python",
   "nbconvert_exporter": "python",
   "pygments_lexer": "ipython3",
   "version": "3.12.4"
  }
 },
 "nbformat": 4,
 "nbformat_minor": 5
}
